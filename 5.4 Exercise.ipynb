{
 "cells": [
  {
   "cell_type": "code",
   "execution_count": 1,
   "id": "0784f0a0-64a3-4c27-b3d0-143ce967413c",
   "metadata": {},
   "outputs": [],
   "source": [
    "import pandas as pd\n",
    "\n",
    "#Load the data\n",
    "file_path = r'C:\\Users\\Jose Zambom\\OneDrive - Exel Industries\\Data Analysis\\Data Analytics Immersion\\Data Ethics & Applied Analytics\\5.4-PigEBank-Client-Data set.xlsx'\n",
    "df = pd.read_excel(file_path)"
   ]
  },
  {
   "cell_type": "code",
   "execution_count": 3,
   "id": "d612bd46-b61a-482a-89f6-2d6413863ab7",
   "metadata": {},
   "outputs": [
    {
     "name": "stdout",
     "output_type": "stream",
     "text": [
      "<bound method DataFrame.info of      Row_Number  Customer_ID Last_Name  Credit Score Country  Gender   Age  \\\n",
      "0             1     15634602  Hargrave         619.0  France  Female  42.0   \n",
      "1             2     15647311      Hill         608.0   Spain  Female  41.0   \n",
      "2             3     15619304      Onio         502.0  France  Female  42.0   \n",
      "3             4     15701354      Boni         699.0  France  Female  39.0   \n",
      "4             5     15737888  Mitchell         850.0   Spain  Female  43.0   \n",
      "..          ...          ...       ...           ...     ...     ...   ...   \n",
      "986         987     15655339   Spencer         566.0  France    Male  36.0   \n",
      "987         988     15613749      Lees         569.0      ES    Male  34.0   \n",
      "988         989     15664521     David         659.0      ES    Male  31.0   \n",
      "989         990     15681206     Hsing         722.0  France  Female  49.0   \n",
      "990         991     15745527     Burke         655.0  France    Male  37.0   \n",
      "\n",
      "     Tenure    Balance  NumOfProducts  HasCrCard?  IsActiveMember  \\\n",
      "0         2       0.00              1           1               1   \n",
      "1         1   83807.86              1           0               1   \n",
      "2         8  159660.80              3           1               0   \n",
      "3         1       0.00              2           0               0   \n",
      "4         2  125510.82              1           1               1   \n",
      "..      ...        ...            ...         ...             ...   \n",
      "986       1  142120.91              1           1               0   \n",
      "987       0  151839.26              1           1               0   \n",
      "988       7  149620.88              2           1               1   \n",
      "989       3  168197.66              1           1               0   \n",
      "990       5   93147.00              2           1               0   \n",
      "\n",
      "     Estimated Salary  ExitedFromBank?  \n",
      "0           101348.88                1  \n",
      "1           112542.58                0  \n",
      "2           113931.57                1  \n",
      "3            93826.63                0  \n",
      "4            79084.10                0  \n",
      "..                ...              ...  \n",
      "986          79616.37                0  \n",
      "987         102299.81                1  \n",
      "988         104533.51                0  \n",
      "989         140765.57                1  \n",
      "990          66214.13                0  \n",
      "\n",
      "[991 rows x 14 columns]>\n"
     ]
    }
   ],
   "source": [
    "#Display basic information\n",
    "print(df.info)"
   ]
  },
  {
   "cell_type": "code",
   "execution_count": 4,
   "id": "b691ac90-4f00-4a2d-a5b5-841a827a7106",
   "metadata": {},
   "outputs": [
    {
     "name": "stdout",
     "output_type": "stream",
     "text": [
      "        Row_Number   Customer_ID Last_Name  Credit Score Country Gender  \\\n",
      "count    991.00000  9.910000e+02       990    988.000000     991    990   \n",
      "unique         NaN           NaN       734           NaN       6      4   \n",
      "top            NaN           NaN      Shih           NaN      FR   Male   \n",
      "freq           NaN           NaN         6           NaN     244    479   \n",
      "mean     496.00000  1.569232e+07       NaN    648.512146     NaN    NaN   \n",
      "std      286.22136  7.223333e+04       NaN     98.202853     NaN    NaN   \n",
      "min        1.00000  1.556609e+07       NaN    376.000000     NaN    NaN   \n",
      "25%      248.50000  1.563019e+07       NaN    579.750000     NaN    NaN   \n",
      "50%      496.00000  1.569275e+07       NaN    653.500000     NaN    NaN   \n",
      "75%      743.50000  1.575379e+07       NaN    721.000000     NaN    NaN   \n",
      "max      991.00000  1.581536e+07       NaN    850.000000     NaN    NaN   \n",
      "\n",
      "               Age      Tenure        Balance  NumOfProducts  HasCrCard?  \\\n",
      "count   990.000000  991.000000     991.000000     991.000000  991.000000   \n",
      "unique         NaN         NaN            NaN            NaN         NaN   \n",
      "top            NaN         NaN            NaN            NaN         NaN   \n",
      "freq           NaN         NaN            NaN            NaN         NaN   \n",
      "mean     38.684848    5.066599   78002.718063       1.522704    0.706357   \n",
      "std      10.958220    2.928371   62799.237345       0.573170    0.455660   \n",
      "min       2.000000    0.000000       0.000000       1.000000    0.000000   \n",
      "25%      32.000000    2.000000       0.000000       1.000000    0.000000   \n",
      "50%      37.000000    5.000000   98668.180000       1.000000    1.000000   \n",
      "75%      44.000000    8.000000  129461.850000       2.000000    1.000000   \n",
      "max      82.000000   10.000000  213146.200000       4.000000    1.000000   \n",
      "\n",
      "        IsActiveMember  Estimated Salary  ExitedFromBank?  \n",
      "count       991.000000        989.000000       991.000000  \n",
      "unique             NaN               NaN              NaN  \n",
      "top                NaN               NaN              NaN  \n",
      "freq               NaN               NaN              NaN  \n",
      "mean          0.507568      98574.543013         0.205853  \n",
      "std           0.500195      57224.716446         0.404527  \n",
      "min           0.000000        371.050000         0.000000  \n",
      "25%           0.000000      48559.190000         0.000000  \n",
      "50%           1.000000      98368.240000         0.000000  \n",
      "75%           1.000000     146326.450000         0.000000  \n",
      "max           1.000000     199725.390000         1.000000  \n"
     ]
    }
   ],
   "source": [
    "print(df.describe(include='all'))"
   ]
  },
  {
   "cell_type": "code",
   "execution_count": 5,
   "id": "e563976e-11e0-47ea-8d5e-d588bc12aa2e",
   "metadata": {},
   "outputs": [
    {
     "name": "stdout",
     "output_type": "stream",
     "text": [
      "   Row_Number  Customer_ID Last_Name  Credit Score Country  Gender   Age  \\\n",
      "0           1     15634602  Hargrave         619.0  France  Female  42.0   \n",
      "1           2     15647311      Hill         608.0   Spain  Female  41.0   \n",
      "2           3     15619304      Onio         502.0  France  Female  42.0   \n",
      "3           4     15701354      Boni         699.0  France  Female  39.0   \n",
      "4           5     15737888  Mitchell         850.0   Spain  Female  43.0   \n",
      "\n",
      "   Tenure    Balance  NumOfProducts  HasCrCard?  IsActiveMember  \\\n",
      "0       2       0.00              1           1               1   \n",
      "1       1   83807.86              1           0               1   \n",
      "2       8  159660.80              3           1               0   \n",
      "3       1       0.00              2           0               0   \n",
      "4       2  125510.82              1           1               1   \n",
      "\n",
      "   Estimated Salary  ExitedFromBank?  \n",
      "0         101348.88                1  \n",
      "1         112542.58                0  \n",
      "2         113931.57                1  \n",
      "3          93826.63                0  \n",
      "4          79084.10                0  \n"
     ]
    }
   ],
   "source": [
    "print(df.head())"
   ]
  },
  {
   "cell_type": "code",
   "execution_count": 8,
   "id": "6daf56ba-3bd7-466c-b670-370d157c9b2d",
   "metadata": {},
   "outputs": [],
   "source": [
    "# Fill missing values in 'Credit Score' and 'Age' with their median values\n",
    "df['Credit Score'] = df['Credit Score'].fillna(df['Credit Score'].median())\n",
    "df['Age'] = df['Age'].fillna(df['Age'].median())\n",
    "\n",
    "# Fill missing 'Estimated Salary' with the median salary, as it may impact analyses\n",
    "df['Estimated Salary'] = df['Estimated Salary'].fillna(df['Estimated Salary'].median())\n",
    "\n",
    "# Drop rows where 'Last_Name' or 'Gender' is missing, as these are identity fields\n",
    "df.dropna(subset=['Last_Name', 'Gender'], inplace=True)"
   ]
  },
  {
   "cell_type": "code",
   "execution_count": 9,
   "id": "3df3ad04-aa0d-40b5-b3a1-ccb69a031a30",
   "metadata": {},
   "outputs": [
    {
     "name": "stdout",
     "output_type": "stream",
     "text": [
      "Unique country values: ['France' 'Spain' 'Germany' 'FR' 'ES' 'DE']\n"
     ]
    }
   ],
   "source": [
    "# Display all unique country values\n",
    "unique_countries = df['Country'].unique()\n",
    "print(\"Unique country values:\", unique_countries)"
   ]
  },
  {
   "cell_type": "code",
   "execution_count": 11,
   "id": "0e4c8e43-5326-4049-b77d-70b0a4c14c65",
   "metadata": {},
   "outputs": [
    {
     "name": "stdout",
     "output_type": "stream",
     "text": [
      "Country counts: Country\n",
      "FR         244\n",
      "France     236\n",
      "Germany    234\n",
      "Spain      135\n",
      "ES         118\n",
      "DE          22\n",
      "Name: count, dtype: int64\n"
     ]
    }
   ],
   "source": [
    "# Display the frequency of each country value\n",
    "country_counts = df['Country'].value_counts()\n",
    "print(\"Country counts:\", country_counts)"
   ]
  },
  {
   "cell_type": "code",
   "execution_count": 12,
   "id": "4d69417b-ded0-457a-93d3-a5a514acf1d6",
   "metadata": {},
   "outputs": [],
   "source": [
    "# Define mappings based on unique values\n",
    "\n",
    "country_map = {\n",
    "    'FR': 'France',\n",
    "    'ES': 'Spain',\n",
    "    'DE': 'Germany',\n",
    "}\n",
    "\n",
    "#Apply the mapping:\n",
    "df['Country'] = df['Country'].replace(country_map)"
   ]
  },
  {
   "cell_type": "code",
   "execution_count": 13,
   "id": "209df900-5f67-4320-acb0-0dfd82ea111a",
   "metadata": {},
   "outputs": [
    {
     "data": {
      "text/plain": [
       "Country\n",
       "France     480\n",
       "Germany    256\n",
       "Spain      253\n",
       "Name: count, dtype: int64"
      ]
     },
     "execution_count": 13,
     "metadata": {},
     "output_type": "execute_result"
    }
   ],
   "source": [
    "df['Country'].value_counts()"
   ]
  },
  {
   "cell_type": "code",
   "execution_count": 14,
   "id": "25ec8059-de61-4ff4-810d-457ab4078d0f",
   "metadata": {},
   "outputs": [],
   "source": [
    "#Rename colyumns to remove special Charecters and follow consistent naming convention\n",
    "df.rename(columns={\n",
    "    'Row_Number': 'RowNumber',\n",
    "    'Customer_ID': 'CustomerID',\n",
    "    'Credit Score': 'CreditScore',\n",
    "    'HasCrCard?': 'HasCreditCard',\n",
    "    'IsActiveMember': 'IsActiveMember',\n",
    "    'ExitedFromBank?': 'ExitedFromBank'\n",
    "}, inplace=True)"
   ]
  },
  {
   "cell_type": "code",
   "execution_count": 15,
   "id": "d9c88c15-793e-47b9-9be5-3f3c4dfdfa9d",
   "metadata": {},
   "outputs": [],
   "source": [
    "# Check for age values below a reasonable threshold (e.g., minimum age of 18)\n",
    "df.loc[df['Age'] < 18, 'Age'] = df['Age'].median()  # Replace with median age if age < 18"
   ]
  },
  {
   "cell_type": "code",
   "execution_count": 16,
   "id": "546d81df-6216-4037-ad04-ed752d5efa2a",
   "metadata": {},
   "outputs": [],
   "source": [
    "# Drop any duplicate rows based on 'CustomerID'\n",
    "df.drop_duplicates(subset='CustomerID', keep='first', inplace=True)"
   ]
  },
  {
   "cell_type": "code",
   "execution_count": 17,
   "id": "09b8d786-5625-437e-8548-164ee279d211",
   "metadata": {},
   "outputs": [
    {
     "name": "stdout",
     "output_type": "stream",
     "text": [
      "<class 'pandas.core.frame.DataFrame'>\n",
      "Index: 989 entries, 0 to 990\n",
      "Data columns (total 14 columns):\n",
      " #   Column            Non-Null Count  Dtype  \n",
      "---  ------            --------------  -----  \n",
      " 0   RowNumber         989 non-null    int64  \n",
      " 1   CustomerID        989 non-null    int64  \n",
      " 2   Last_Name         989 non-null    object \n",
      " 3   CreditScore       989 non-null    float64\n",
      " 4   Country           989 non-null    object \n",
      " 5   Gender            989 non-null    object \n",
      " 6   Age               989 non-null    float64\n",
      " 7   Tenure            989 non-null    int64  \n",
      " 8   Balance           989 non-null    float64\n",
      " 9   NumOfProducts     989 non-null    int64  \n",
      " 10  HasCreditCard     989 non-null    int64  \n",
      " 11  IsActiveMember    989 non-null    int64  \n",
      " 12  Estimated Salary  989 non-null    float64\n",
      " 13  ExitedFromBank    989 non-null    int64  \n",
      "dtypes: float64(4), int64(7), object(3)\n",
      "memory usage: 115.9+ KB\n",
      "None\n"
     ]
    }
   ],
   "source": [
    "# Final data check\n",
    "print(df.info())"
   ]
  },
  {
   "cell_type": "code",
   "execution_count": 19,
   "id": "eec129df-62cb-461f-812f-8ebcede15c70",
   "metadata": {},
   "outputs": [
    {
     "name": "stdout",
     "output_type": "stream",
     "text": [
      "        RowNumber    CustomerID  CreditScore         Age      Tenure  \\\n",
      "count  989.000000  9.890000e+02   989.000000  989.000000  989.000000   \n",
      "mean   496.777553  1.569221e+07   648.639535   39.093023    5.071790   \n",
      "std    285.952066  7.226727e+04    98.026551   10.239018    2.928967   \n",
      "min      1.000000  1.556609e+07   376.000000   18.000000    0.000000   \n",
      "25%    250.000000  1.563005e+07   580.000000   32.000000    2.000000   \n",
      "50%    497.000000  1.569267e+07   653.500000   37.000000    5.000000   \n",
      "75%    744.000000  1.575383e+07   721.000000   44.000000    8.000000   \n",
      "max    991.000000  1.581536e+07   850.000000   82.000000   10.000000   \n",
      "\n",
      "             Balance  NumOfProducts  HasCreditCard  IsActiveMember  \\\n",
      "count     989.000000     989.000000     989.000000      989.000000   \n",
      "mean    77996.844247       1.521739       0.705763        0.508595   \n",
      "std     62757.146089       0.573347       0.455929        0.500179   \n",
      "min         0.000000       1.000000       0.000000        0.000000   \n",
      "25%         0.000000       1.000000       0.000000        0.000000   \n",
      "50%     98668.180000       1.000000       1.000000        1.000000   \n",
      "75%    129433.340000       2.000000       1.000000        1.000000   \n",
      "max    213146.200000       4.000000       1.000000        1.000000   \n",
      "\n",
      "       Estimated Salary  ExitedFromBank  \n",
      "count        989.000000      989.000000  \n",
      "mean       98524.962194        0.206269  \n",
      "std        57175.983507        0.404831  \n",
      "min          371.050000        0.000000  \n",
      "25%        48559.190000        0.000000  \n",
      "50%        98368.240000        0.000000  \n",
      "75%       146145.930000        0.000000  \n",
      "max       199725.390000        1.000000  \n"
     ]
    }
   ],
   "source": [
    "print(df.describe())"
   ]
  },
  {
   "cell_type": "code",
   "execution_count": 20,
   "id": "ed6b55a7-1683-4d09-ba57-a0961f2ca9a6",
   "metadata": {},
   "outputs": [],
   "source": [
    "# Export the cleaned dataset\n",
    "\n",
    "df.to_excel('cleaned_customer_data.xlsx', index = False)"
   ]
  },
  {
   "cell_type": "code",
   "execution_count": 21,
   "id": "29424149-a864-4f32-92ea-b8a9d29c8683",
   "metadata": {},
   "outputs": [],
   "source": [
    "# Separate the dataset into two groups\n",
    "exited_customers = df[df['ExitedFromBank'] == 1]\n",
    "retained_customers = df[df['ExitedFromBank'] == 0]"
   ]
  },
  {
   "cell_type": "code",
   "execution_count": 23,
   "id": "6cb83dc0-7983-4c36-b496-d1b37d94deca",
   "metadata": {},
   "outputs": [
    {
     "name": "stdout",
     "output_type": "stream",
     "text": [
      "Descriptive Statistics for Customers Who Left:\n",
      "        RowNumber    CustomerID  CreditScore         Age      Tenure  \\\n",
      "count  204.000000  2.040000e+02   204.000000  204.000000  204.000000   \n",
      "mean   493.808824  1.569122e+07   636.595588   45.196078    4.715686   \n",
      "std    291.185885  7.292957e+04    99.632573    9.566505    2.915484   \n",
      "min      1.000000  1.556875e+07   376.000000   22.000000    0.000000   \n",
      "25%    228.750000  1.562854e+07   562.750000   39.000000    2.000000   \n",
      "50%    501.500000  1.569331e+07   643.500000   45.000000    5.000000   \n",
      "75%    748.500000  1.575380e+07   714.250000   51.000000    7.000000   \n",
      "max    990.000000  1.581176e+07   850.000000   69.000000   10.000000   \n",
      "\n",
      "             Balance  NumOfProducts  HasCreditCard  IsActiveMember  \\\n",
      "count     204.000000     204.000000     204.000000      204.000000   \n",
      "mean    90239.218873       1.460784       0.705882        0.299020   \n",
      "std     61352.066625       0.764632       0.456766        0.458955   \n",
      "min         0.000000       1.000000       0.000000        0.000000   \n",
      "25%         0.000000       1.000000       0.000000        0.000000   \n",
      "50%    112433.965000       1.000000       1.000000        0.000000   \n",
      "75%    133713.527500       2.000000       1.000000        1.000000   \n",
      "max    213146.200000       4.000000       1.000000        1.000000   \n",
      "\n",
      "       Estimated Salary  ExitedFromBank  \n",
      "count        204.000000           204.0  \n",
      "mean       97155.204608             1.0  \n",
      "std        59537.153259             0.0  \n",
      "min          417.410000             1.0  \n",
      "25%        44685.167500             1.0  \n",
      "50%       100375.400000             1.0  \n",
      "75%       148291.382500             1.0  \n",
      "max       199725.390000             1.0  \n"
     ]
    }
   ],
   "source": [
    "# Calculate descriptive statistics for exited customers\n",
    "exited_stats = exited_customers.describe()\n",
    "print(\"Descriptive Statistics for Customers Who Left:\")\n",
    "print(exited_stats)"
   ]
  },
  {
   "cell_type": "code",
   "execution_count": 24,
   "id": "2dacaeca-aead-4876-a58e-8258d34ef45f",
   "metadata": {},
   "outputs": [
    {
     "name": "stdout",
     "output_type": "stream",
     "text": [
      "\n",
      "Descriptive Statistics for Customers Who Stayed:\n",
      "        RowNumber    CustomerID  CreditScore         Age      Tenure  \\\n",
      "count  785.000000  7.850000e+02   785.000000  785.000000  785.000000   \n",
      "mean   497.549045  1.569247e+07   651.769427   37.507006    5.164331   \n",
      "std    284.759307  7.213874e+04    97.425421    9.808642    2.927221   \n",
      "min      2.000000  1.556609e+07   411.000000   18.000000    0.000000   \n",
      "25%    257.000000  1.563091e+07   583.000000   31.000000    3.000000   \n",
      "50%    496.000000  1.569246e+07   657.000000   36.000000    5.000000   \n",
      "75%    743.000000  1.575383e+07   723.000000   42.000000    8.000000   \n",
      "max    991.000000  1.581536e+07   850.000000   82.000000   10.000000   \n",
      "\n",
      "             Balance  NumOfProducts  HasCreditCard  IsActiveMember  \\\n",
      "count     785.000000     785.000000     785.000000      785.000000   \n",
      "mean    74815.386382       1.537580       0.705732        0.563057   \n",
      "std     62765.459354       0.511527       0.456003        0.496324   \n",
      "min         0.000000       1.000000       0.000000        0.000000   \n",
      "25%         0.000000       1.000000       0.000000        0.000000   \n",
      "50%     93147.000000       2.000000       1.000000        1.000000   \n",
      "75%    127771.350000       2.000000       1.000000        1.000000   \n",
      "max    197041.800000       3.000000       1.000000        1.000000   \n",
      "\n",
      "       Estimated Salary  ExitedFromBank  \n",
      "count        785.000000           785.0  \n",
      "mean       98880.924675             0.0  \n",
      "std        56579.964324             0.0  \n",
      "min          371.050000             0.0  \n",
      "25%        51219.800000             0.0  \n",
      "50%        98368.240000             0.0  \n",
      "75%       145894.900000             0.0  \n",
      "max       199661.500000             0.0  \n"
     ]
    }
   ],
   "source": [
    "# Calculate descriptive statistics for retained customers\n",
    "retained_stats = retained_customers.describe()\n",
    "print(\"\\nDescriptive Statistics for Customers Who Stayed:\")\n",
    "print(retained_stats)"
   ]
  },
  {
   "cell_type": "code",
   "execution_count": 27,
   "id": "bb4d90d2-8c71-42ab-a67e-9a125ce71017",
   "metadata": {},
   "outputs": [
    {
     "name": "stdout",
     "output_type": "stream",
     "text": [
      "Average Credit Score - Exited: 636.5955882352941\n",
      "Average Credit Score - Retained: 651.7694267515924\n"
     ]
    }
   ],
   "source": [
    "# Compare mean Credit Score\n",
    "print(\"Average Credit Score - Exited:\", exited_customers['CreditScore'].mean())\n",
    "print(\"Average Credit Score - Retained:\", retained_customers['CreditScore'].mean())"
   ]
  },
  {
   "cell_type": "code",
   "execution_count": 28,
   "id": "70d8abc1-0ba4-4473-9ebf-89e1dc234d09",
   "metadata": {},
   "outputs": [
    {
     "name": "stdout",
     "output_type": "stream",
     "text": [
      "Average Age - Exited: 45.19607843137255\n",
      "Average Age - Retained: 37.507006369426755\n"
     ]
    }
   ],
   "source": [
    "# Compare mean Age\n",
    "print(\"Average Age - Exited:\", exited_customers['Age'].mean())\n",
    "print(\"Average Age - Retained:\", retained_customers['Age'].mean())"
   ]
  },
  {
   "cell_type": "code",
   "execution_count": 29,
   "id": "f8a55466-8bc3-4145-b121-78a0f4ee80cd",
   "metadata": {},
   "outputs": [
    {
     "name": "stdout",
     "output_type": "stream",
     "text": [
      "Average Balance - Exited: 90239.21887254901\n",
      "Average Balance - Retained: 74815.38638216561\n"
     ]
    }
   ],
   "source": [
    "# Compare mean Balance\n",
    "print(\"Average Balance - Exited:\", exited_customers['Balance'].mean())\n",
    "print(\"Average Balance - Retained:\", retained_customers['Balance'].mean())"
   ]
  },
  {
   "cell_type": "code",
   "execution_count": 30,
   "id": "fc05a203-57d2-4b33-a169-ffcd267bedca",
   "metadata": {},
   "outputs": [
    {
     "name": "stdout",
     "output_type": "stream",
     "text": [
      "Percentage of Active Members - Exited: 29.901960784313726 %\n",
      "Percentage of Active Members - Retained: 56.30573248407643 %\n"
     ]
    }
   ],
   "source": [
    "# Calculate percentage of active members in each group\n",
    "active_exited = exited_customers['IsActiveMember'].mean() * 100\n",
    "active_retained = retained_customers['IsActiveMember'].mean() * 100\n",
    "\n",
    "print(\"Percentage of Active Members - Exited:\", active_exited, \"%\")\n",
    "print(\"Percentage of Active Members - Retained:\", active_retained, \"%\")"
   ]
  },
  {
   "cell_type": "code",
   "execution_count": 31,
   "id": "705f6774-9e76-45b0-ab9b-327d670d65d6",
   "metadata": {},
   "outputs": [
    {
     "name": "stdout",
     "output_type": "stream",
     "text": [
      "Average Number of Products - Exited: 1.4607843137254901\n",
      "Average Number of Products - Retained: 1.537579617834395\n"
     ]
    }
   ],
   "source": [
    "# Compare mean NumOfProducts\n",
    "print(\"Average Number of Products - Exited:\", exited_customers['NumOfProducts'].mean())\n",
    "print(\"Average Number of Products - Retained:\", retained_customers['NumOfProducts'].mean())"
   ]
  }
 ],
 "metadata": {
  "kernelspec": {
   "display_name": "Python 3 (ipykernel)",
   "language": "python",
   "name": "python3"
  },
  "language_info": {
   "codemirror_mode": {
    "name": "ipython",
    "version": 3
   },
   "file_extension": ".py",
   "mimetype": "text/x-python",
   "name": "python",
   "nbconvert_exporter": "python",
   "pygments_lexer": "ipython3",
   "version": "3.12.4"
  }
 },
 "nbformat": 4,
 "nbformat_minor": 5
}
